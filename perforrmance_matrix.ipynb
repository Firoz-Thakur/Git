{
  "nbformat": 4,
  "nbformat_minor": 0,
  "metadata": {
    "colab": {
      "name": "perforrmance_matrix.ipynb",
      "provenance": [],
      "collapsed_sections": [],
      "authorship_tag": "ABX9TyPwk5R8BEOVDbUyuYwg5Wvg",
      "include_colab_link": true
    },
    "kernelspec": {
      "name": "python3",
      "display_name": "Python 3"
    }
  },
  "cells": [
    {
      "cell_type": "markdown",
      "metadata": {
        "id": "view-in-github",
        "colab_type": "text"
      },
      "source": [
        "<a href=\"https://colab.research.google.com/github/Firoz-kumar-3/Git/blob/master/perforrmance_matrix.ipynb\" target=\"_parent\"><img src=\"https://colab.research.google.com/assets/colab-badge.svg\" alt=\"Open In Colab\"/></a>"
      ]
    },
    {
      "cell_type": "code",
      "metadata": {
        "id": "HkVYdM18CUyJ"
      },
      "source": [
        "import numpy as np"
      ],
      "execution_count": 2,
      "outputs": []
    },
    {
      "cell_type": "code",
      "metadata": {
        "id": "ec1OjmsKDBlF"
      },
      "source": [
        "def perceptron(input,weight,bias):\r\n",
        "  y_net=np.sum(input*weight)+bias\r\n",
        "  if y_net>=0:\r\n",
        "    return 1\r\n",
        "  else:\r\n",
        "   return 0;"
      ],
      "execution_count": 14,
      "outputs": []
    },
    {
      "cell_type": "code",
      "metadata": {
        "id": "1vNxk8V8DBm_"
      },
      "source": [
        "weight=np.array([1,-1,-1])\r\n",
        "bias=-0.5\r\n",
        "target=np.array([0,0,0,0,1,1,1,1])\r\n",
        "input=np.array([[0,0,0,],[0,0,1],[0,1,0],[0,1,1],[1,0,0],[1,0,1],[1,1,0],[1,1,1]])"
      ],
      "execution_count": 15,
      "outputs": []
    },
    {
      "cell_type": "code",
      "metadata": {
        "id": "kcnJ3O99DBpp"
      },
      "source": [
        "obtained=np.array(target)"
      ],
      "execution_count": 16,
      "outputs": []
    },
    {
      "cell_type": "code",
      "metadata": {
        "id": "PDp9Z-t6DBra"
      },
      "source": [
        "for i in range(len(input)):\r\n",
        "  obtained[i]=perceptron(input[i],weight,bias)\r\n"
      ],
      "execution_count": 17,
      "outputs": []
    },
    {
      "cell_type": "code",
      "metadata": {
        "colab": {
          "base_uri": "https://localhost:8080/"
        },
        "id": "xRwNJgt5DBuR",
        "outputId": "177c4e79-b05d-4e85-b08c-6259df00ba64"
      },
      "source": [
        "obtained"
      ],
      "execution_count": 18,
      "outputs": [
        {
          "output_type": "execute_result",
          "data": {
            "text/plain": [
              "array([0, 0, 0, 0, 1, 0, 0, 0])"
            ]
          },
          "metadata": {
            "tags": []
          },
          "execution_count": 18
        }
      ]
    },
    {
      "cell_type": "code",
      "metadata": {
        "id": "aC_zIzKpDBwn"
      },
      "source": [
        ""
      ],
      "execution_count": null,
      "outputs": []
    },
    {
      "cell_type": "markdown",
      "metadata": {
        "id": "GzXzfu21GEmV"
      },
      "source": [
        "mean absolute error"
      ]
    },
    {
      "cell_type": "code",
      "metadata": {
        "id": "H9VNHOIkF_XY"
      },
      "source": [
        "def MAE(target,obtained):\r\n",
        "  error=np.sum(np.abs(obtained-target))/len(target)\r\n",
        "  return error"
      ],
      "execution_count": 19,
      "outputs": []
    },
    {
      "cell_type": "code",
      "metadata": {
        "id": "OLhkxK7yF_Zy"
      },
      "source": [
        "mae_error=MAE(target,obtained)"
      ],
      "execution_count": 22,
      "outputs": []
    },
    {
      "cell_type": "code",
      "metadata": {
        "colab": {
          "base_uri": "https://localhost:8080/"
        },
        "id": "KoVNF9cyF_cE",
        "outputId": "99688906-1f63-474d-e13c-78e2291e17e7"
      },
      "source": [
        "mae_error"
      ],
      "execution_count": 23,
      "outputs": [
        {
          "output_type": "execute_result",
          "data": {
            "text/plain": [
              "0.375"
            ]
          },
          "metadata": {
            "tags": []
          },
          "execution_count": 23
        }
      ]
    },
    {
      "cell_type": "markdown",
      "metadata": {
        "id": "clIM17HjH65H"
      },
      "source": [
        "**Mean squar error (MSE)**"
      ]
    },
    {
      "cell_type": "code",
      "metadata": {
        "id": "CpMp3wpdF_d_"
      },
      "source": [
        "def MSE(target,obtained):\r\n",
        "  error=np.sum((obtained-target)**2)/len(target)\r\n",
        "  return error"
      ],
      "execution_count": 28,
      "outputs": []
    },
    {
      "cell_type": "code",
      "metadata": {
        "id": "7AF9pRQZF_hp"
      },
      "source": [
        "mse_error=MSE(target,obtained)\r\n"
      ],
      "execution_count": 27,
      "outputs": []
    },
    {
      "cell_type": "code",
      "metadata": {
        "colab": {
          "base_uri": "https://localhost:8080/"
        },
        "id": "pO7htrZeDB0X",
        "outputId": "6397038a-86f1-46b2-c2df-f4704d4030db"
      },
      "source": [
        "mse_error"
      ],
      "execution_count": 29,
      "outputs": [
        {
          "output_type": "execute_result",
          "data": {
            "text/plain": [
              "0.375"
            ]
          },
          "metadata": {
            "tags": []
          },
          "execution_count": 29
        }
      ]
    },
    {
      "cell_type": "markdown",
      "metadata": {
        "id": "PucwaMgQIlWI"
      },
      "source": [
        "**RSME**"
      ]
    },
    {
      "cell_type": "code",
      "metadata": {
        "id": "8u2JFKWzDB20"
      },
      "source": [
        "def RMSE(target,obtained):\r\n",
        "  error=np.sqrt(np.sum((obtained-target)**2))/len(target)\r\n",
        "  return error"
      ],
      "execution_count": 32,
      "outputs": []
    },
    {
      "cell_type": "code",
      "metadata": {
        "id": "-QFHmGxVDB4j"
      },
      "source": [
        "rmse_error=RMSE(target,obtained)"
      ],
      "execution_count": 36,
      "outputs": []
    },
    {
      "cell_type": "code",
      "metadata": {
        "colab": {
          "base_uri": "https://localhost:8080/"
        },
        "id": "EtzWwRFODB6a",
        "outputId": "fecf2f89-c3ad-4ad5-9034-d0d29daa4e9f"
      },
      "source": [
        "rmse_error"
      ],
      "execution_count": 38,
      "outputs": [
        {
          "output_type": "execute_result",
          "data": {
            "text/plain": [
              "0.21650635094610965"
            ]
          },
          "metadata": {
            "tags": []
          },
          "execution_count": 38
        }
      ]
    },
    {
      "cell_type": "markdown",
      "metadata": {
        "id": "2qy5WckGJkU4"
      },
      "source": [
        "classification accuracy"
      ]
    },
    {
      "cell_type": "code",
      "metadata": {
        "id": "ng9FC8p4DB8Z"
      },
      "source": [
        "def accuracy(target,obtained):\r\n",
        "  correct=0;\r\n",
        "  for i in range(len(target)):\r\n",
        "    if target[i]==obtained[i]:\r\n",
        "      correct+=1\r\n",
        "  acc=correct/len(target)\r\n",
        "  return acc"
      ],
      "execution_count": 39,
      "outputs": []
    },
    {
      "cell_type": "code",
      "metadata": {
        "id": "sfAzVvieKIrX"
      },
      "source": [
        "acc=accuracy(target,obtained)"
      ],
      "execution_count": 40,
      "outputs": []
    },
    {
      "cell_type": "code",
      "metadata": {
        "colab": {
          "base_uri": "https://localhost:8080/"
        },
        "id": "6H93AzH9KNfI",
        "outputId": "250212da-1fa6-41c2-bb75-c27812c3996d"
      },
      "source": [
        "acc"
      ],
      "execution_count": 41,
      "outputs": [
        {
          "output_type": "execute_result",
          "data": {
            "text/plain": [
              "0.625"
            ]
          },
          "metadata": {
            "tags": []
          },
          "execution_count": 41
        }
      ]
    },
    {
      "cell_type": "markdown",
      "metadata": {
        "id": "cEdWQNqwKuhv"
      },
      "source": [
        "**confusion matrix**"
      ]
    },
    {
      "cell_type": "code",
      "metadata": {
        "id": "T6FEJOvOKo7_"
      },
      "source": [
        "def confusion(target,obtained):\r\n",
        "  TP=TN=FP=FN=0\r\n",
        "  for i in range(len(target)):\r\n",
        "    if target[i]==obtained[i]==0:\r\n",
        "      TP+=1\r\n",
        "    elif target[i]==obtained[i]==1:\r\n",
        "      TN+=1\r\n",
        "    elif target[i]!=obtained[i]==0:\r\n",
        "      FP+=1\r\n",
        "    else:\r\n",
        "     FN+=1\r\n",
        "  print(\"true positive\",TP)\r\n",
        "  print(\"false positive\",FP)\r\n",
        "  print(\"true Negative\",TN)\r\n",
        "  print(\"false Negative\",FN)\r\n",
        "  precision=TP/(TP+FP)\r\n",
        "  recall=TP/(TP+FN)\r\n",
        "  F1_score=(2*precision*recall)/(precision+recall)\r\n",
        "  print(\"precision\",precision)\r\n",
        "  print(\"recall\",recall)\r\n"
      ],
      "execution_count": 54,
      "outputs": []
    },
    {
      "cell_type": "code",
      "metadata": {
        "colab": {
          "base_uri": "https://localhost:8080/"
        },
        "id": "14T5isTHKpHN",
        "outputId": "61d323f8-8970-44e3-a098-b9eb99c68c04"
      },
      "source": [
        "confusion(target,obtained)"
      ],
      "execution_count": 55,
      "outputs": [
        {
          "output_type": "stream",
          "text": [
            "true positive 4\n",
            "false positive 3\n",
            "true Negative 1\n",
            "false Negative 0\n",
            "precision 0.5714285714285714\n",
            "recall 1.0\n"
          ],
          "name": "stdout"
        }
      ]
    },
    {
      "cell_type": "markdown",
      "metadata": {
        "id": "Nvk7oADDfy0N"
      },
      "source": [
        "Area under curve\r\n"
      ]
    },
    {
      "cell_type": "code",
      "metadata": {
        "id": "xnzUZ9ezf2Se"
      },
      "source": [
        ""
      ],
      "execution_count": null,
      "outputs": []
    },
    {
      "cell_type": "markdown",
      "metadata": {
        "id": "0eWRQC2YF97H"
      },
      "source": [
        ""
      ]
    },
    {
      "cell_type": "code",
      "metadata": {
        "colab": {
          "base_uri": "https://localhost:8080/",
          "height": 218
        },
        "id": "ITzgNKtPKoVq",
        "outputId": "824d3477-1bfb-4e7d-e287-547c587161f2"
      },
      "source": [
        ""
      ],
      "execution_count": 53,
      "outputs": [
        {
          "output_type": "error",
          "ename": "NameError",
          "evalue": "ignored",
          "traceback": [
            "\u001b[0;31m---------------------------------------------------------------------------\u001b[0m",
            "\u001b[0;31mNameError\u001b[0m                                 Traceback (most recent call last)",
            "\u001b[0;32m<ipython-input-53-3dd871917042>\u001b[0m in \u001b[0;36m<module>\u001b[0;34m()\u001b[0m\n\u001b[0;32m----> 1\u001b[0;31m \u001b[0mprecision\u001b[0m\u001b[0;34m=\u001b[0m\u001b[0mTP\u001b[0m\u001b[0;34m/\u001b[0m\u001b[0;34m(\u001b[0m\u001b[0mTP\u001b[0m\u001b[0;34m+\u001b[0m\u001b[0mFP\u001b[0m\u001b[0;34m)\u001b[0m\u001b[0;34m\u001b[0m\u001b[0;34m\u001b[0m\u001b[0m\n\u001b[0m\u001b[1;32m      2\u001b[0m \u001b[0mrecall\u001b[0m\u001b[0;34m=\u001b[0m\u001b[0mTP\u001b[0m\u001b[0;34m/\u001b[0m\u001b[0;34m(\u001b[0m\u001b[0mTP\u001b[0m\u001b[0;34m+\u001b[0m\u001b[0mFN\u001b[0m\u001b[0;34m)\u001b[0m\u001b[0;34m\u001b[0m\u001b[0;34m\u001b[0m\u001b[0m\n\u001b[1;32m      3\u001b[0m \u001b[0mF1_score\u001b[0m\u001b[0;34m=\u001b[0m\u001b[0;34m(\u001b[0m\u001b[0;36m2\u001b[0m\u001b[0;34m*\u001b[0m\u001b[0mprecision\u001b[0m\u001b[0;34m*\u001b[0m\u001b[0mrecall\u001b[0m\u001b[0;34m)\u001b[0m\u001b[0;34m/\u001b[0m\u001b[0;34m(\u001b[0m\u001b[0mprecision\u001b[0m\u001b[0;34m+\u001b[0m\u001b[0mrecall\u001b[0m\u001b[0;34m)\u001b[0m\u001b[0;34m\u001b[0m\u001b[0;34m\u001b[0m\u001b[0m\n\u001b[1;32m      4\u001b[0m \u001b[0mprint\u001b[0m\u001b[0;34m(\u001b[0m\u001b[0;34m\"\"\u001b[0m\u001b[0;34m)\u001b[0m\u001b[0;34m\u001b[0m\u001b[0;34m\u001b[0m\u001b[0m\n",
            "\u001b[0;31mNameError\u001b[0m: name 'TP' is not defined"
          ]
        }
      ]
    },
    {
      "cell_type": "code",
      "metadata": {
        "colab": {
          "base_uri": "https://localhost:8080/",
          "height": 183
        },
        "id": "nXzglutTKnGE",
        "outputId": "a2eabd00-6092-4d21-8cfa-28256e09b12b"
      },
      "source": [
        "precision"
      ],
      "execution_count": 47,
      "outputs": [
        {
          "output_type": "error",
          "ename": "NameError",
          "evalue": "ignored",
          "traceback": [
            "\u001b[0;31m---------------------------------------------------------------------------\u001b[0m",
            "\u001b[0;31mNameError\u001b[0m                                 Traceback (most recent call last)",
            "\u001b[0;32m<ipython-input-47-239fdfedd299>\u001b[0m in \u001b[0;36m<module>\u001b[0;34m()\u001b[0m\n\u001b[0;32m----> 1\u001b[0;31m \u001b[0mprecision\u001b[0m\u001b[0;34m\u001b[0m\u001b[0;34m\u001b[0m\u001b[0m\n\u001b[0m\u001b[1;32m      2\u001b[0m \u001b[0mrecall\u001b[0m\u001b[0;34m\u001b[0m\u001b[0;34m\u001b[0m\u001b[0m\n",
            "\u001b[0;31mNameError\u001b[0m: name 'precision' is not defined"
          ]
        }
      ]
    },
    {
      "cell_type": "markdown",
      "metadata": {
        "id": "0pgW9C7PF9_6"
      },
      "source": [
        ""
      ]
    },
    {
      "cell_type": "markdown",
      "metadata": {
        "id": "WRqBAubzF-Ge"
      },
      "source": [
        ""
      ]
    },
    {
      "cell_type": "code",
      "metadata": {
        "id": "Ib3vJhcqDB-G"
      },
      "source": [
        ""
      ],
      "execution_count": null,
      "outputs": []
    },
    {
      "cell_type": "code",
      "metadata": {
        "id": "pIu0zrBtDCA1"
      },
      "source": [
        ""
      ],
      "execution_count": null,
      "outputs": []
    },
    {
      "cell_type": "code",
      "metadata": {
        "id": "tRyL9BnJDCD0"
      },
      "source": [
        ""
      ],
      "execution_count": null,
      "outputs": []
    }
  ]
}