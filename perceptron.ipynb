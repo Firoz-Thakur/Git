{
  "nbformat": 4,
  "nbformat_minor": 0,
  "metadata": {
    "colab": {
      "name": "perceptron.ipynb",
      "provenance": [],
      "authorship_tag": "ABX9TyNsyiUmmbnG+jpSk9traDeU",
      "include_colab_link": true
    },
    "kernelspec": {
      "name": "python3",
      "display_name": "Python 3"
    }
  },
  "cells": [
    {
      "cell_type": "markdown",
      "metadata": {
        "id": "view-in-github",
        "colab_type": "text"
      },
      "source": [
        "<a href=\"https://colab.research.google.com/github/Firoz-kumar-3/Git/blob/master/perceptron.ipynb\" target=\"_parent\"><img src=\"https://colab.research.google.com/assets/colab-badge.svg\" alt=\"Open In Colab\"/></a>"
      ]
    },
    {
      "cell_type": "code",
      "metadata": {
        "id": "RUMKKQ57Y_NL"
      },
      "source": [
        "import numpy as np\r\n",
        "weight=np.array([0,1,0])\r\n",
        "bias=0\r\n",
        "input=np.array([1,-1,1])"
      ],
      "execution_count": 2,
      "outputs": []
    },
    {
      "cell_type": "code",
      "metadata": {
        "id": "n6_L6IybbRbm"
      },
      "source": [
        "def predict(in1,weight,bias):\r\n",
        "  net_in=np.sum(in1*weight)+bias\r\n",
        "  if net_in>0:\r\n",
        "   print(\"1,apple\")\r\n",
        "  else:\r\n",
        "   print(\"-1,orange\")"
      ],
      "execution_count": 3,
      "outputs": []
    },
    {
      "cell_type": "code",
      "metadata": {
        "colab": {
          "base_uri": "https://localhost:8080/"
        },
        "id": "ACqaMS1GcMSD",
        "outputId": "5a062e5c-be37-4bb7-d3a7-cf05e7d02bfc"
      },
      "source": [
        "predict(input,weight,bias)"
      ],
      "execution_count": 4,
      "outputs": [
        {
          "output_type": "stream",
          "text": [
            "-1,orange\n"
          ],
          "name": "stdout"
        }
      ]
    },
    {
      "cell_type": "code",
      "metadata": {
        "id": "MTJo0C6acmzM"
      },
      "source": [
        "input2=np.array([-1,1,1])"
      ],
      "execution_count": 5,
      "outputs": []
    },
    {
      "cell_type": "code",
      "metadata": {
        "colab": {
          "base_uri": "https://localhost:8080/"
        },
        "id": "D5_qTlIlyGDV",
        "outputId": "01ff3ac4-807e-4fa9-fced-116fa9bf7036"
      },
      "source": [
        "predict(input2,weight,bias)"
      ],
      "execution_count": 6,
      "outputs": [
        {
          "output_type": "stream",
          "text": [
            "1,apple\n"
          ],
          "name": "stdout"
        }
      ]
    },
    {
      "cell_type": "code",
      "metadata": {
        "id": "6pAujz7odsQs"
      },
      "source": [
        ""
      ],
      "execution_count": null,
      "outputs": []
    }
  ]
}