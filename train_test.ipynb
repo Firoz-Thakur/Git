{
  "nbformat": 4,
  "nbformat_minor": 0,
  "metadata": {
    "colab": {
      "name": "train_test.ipynb",
      "provenance": [],
      "authorship_tag": "ABX9TyMxqUM43XMcvD+cfQJ7krKG",
      "include_colab_link": true
    },
    "kernelspec": {
      "name": "python3",
      "display_name": "Python 3"
    }
  },
  "cells": [
    {
      "cell_type": "markdown",
      "metadata": {
        "id": "view-in-github",
        "colab_type": "text"
      },
      "source": [
        "<a href=\"https://colab.research.google.com/github/Firoz-kumar-3/Git/blob/master/train_test.ipynb\" target=\"_parent\"><img src=\"https://colab.research.google.com/assets/colab-badge.svg\" alt=\"Open In Colab\"/></a>"
      ]
    },
    {
      "cell_type": "code",
      "metadata": {
        "id": "9Fmmp3cCgsgz"
      },
      "source": [
        "import numpy as np"
      ],
      "execution_count": 1,
      "outputs": []
    },
    {
      "cell_type": "code",
      "metadata": {
        "id": "XqkUowYAgx1p"
      },
      "source": [
        "x=np.arange(0,100,1)"
      ],
      "execution_count": 2,
      "outputs": []
    },
    {
      "cell_type": "code",
      "metadata": {
        "colab": {
          "base_uri": "https://localhost:8080/"
        },
        "id": "u8TVwV-Pgx3Z",
        "outputId": "b5dc8c93-9b08-4175-b861-71db2a1b8d88"
      },
      "source": [
        "len(x)"
      ],
      "execution_count": 3,
      "outputs": [
        {
          "output_type": "execute_result",
          "data": {
            "text/plain": [
              "100"
            ]
          },
          "metadata": {
            "tags": []
          },
          "execution_count": 3
        }
      ]
    },
    {
      "cell_type": "code",
      "metadata": {
        "id": "cDxa4SOtgx6B"
      },
      "source": [
        "def train_test_split(x,test_size):\r\n",
        "  number=int((test_size/100)*len(x))\r\n",
        "  train_size=len(x)-number\r\n",
        "  train=x[ :train_size]\r\n",
        "  test=x[train_size: ]\r\n",
        "  return train,test"
      ],
      "execution_count": 13,
      "outputs": []
    },
    {
      "cell_type": "code",
      "metadata": {
        "colab": {
          "base_uri": "https://localhost:8080/"
        },
        "id": "LFUuyisLgx7S",
        "outputId": "0c570c15-9f8b-435b-a707-b8651282aaf5"
      },
      "source": [
        "train_test_split(x,30)"
      ],
      "execution_count": 14,
      "outputs": [
        {
          "output_type": "execute_result",
          "data": {
            "text/plain": [
              "(array([ 0,  1,  2,  3,  4,  5,  6,  7,  8,  9, 10, 11, 12, 13, 14, 15, 16,\n",
              "        17, 18, 19, 20, 21, 22, 23, 24, 25, 26, 27, 28, 29, 30, 31, 32, 33,\n",
              "        34, 35, 36, 37, 38, 39, 40, 41, 42, 43, 44, 45, 46, 47, 48, 49, 50,\n",
              "        51, 52, 53, 54, 55, 56, 57, 58, 59, 60, 61, 62, 63, 64, 65, 66, 67,\n",
              "        68, 69]),\n",
              " array([70, 71, 72, 73, 74, 75, 76, 77, 78, 79, 80, 81, 82, 83, 84, 85, 86,\n",
              "        87, 88, 89, 90, 91, 92, 93, 94, 95, 96, 97, 98, 99]))"
            ]
          },
          "metadata": {
            "tags": []
          },
          "execution_count": 14
        }
      ]
    },
    {
      "cell_type": "code",
      "metadata": {
        "id": "-iZDarYbgx-9"
      },
      "source": [
        "def train_test_split(x,test_size):\r\n",
        "  x1=np.random.shuffle(x)\r\n",
        "  number=int((test_size/100)*len(x))\r\n",
        "  train_size=len(x)-number\r\n",
        "  train=x[ :train_size]\r\n",
        "  test=x[train_size: ]\r\n",
        "  return train,test"
      ],
      "execution_count": 19,
      "outputs": []
    },
    {
      "cell_type": "code",
      "metadata": {
        "colab": {
          "base_uri": "https://localhost:8080/"
        },
        "id": "rf1TAU4SgyAL",
        "outputId": "26c48248-99c3-4ede-e62e-03b7474544ed"
      },
      "source": [
        "train_test_split(x,30)"
      ],
      "execution_count": 20,
      "outputs": [
        {
          "output_type": "execute_result",
          "data": {
            "text/plain": [
              "(array([87, 19, 79, 91, 23, 27, 48, 17, 46, 78, 11,  1, 67, 15, 28,  4, 95,\n",
              "        82, 99, 62,  2, 81, 16, 80, 40, 72, 42, 64,  8, 73, 86, 36, 65, 94,\n",
              "        75, 34, 20, 60,  3, 71, 83, 13, 77, 74, 24, 63, 12, 88, 98,  6, 70,\n",
              "        37, 50, 22, 92, 49, 43, 96, 53, 68, 33,  7, 35, 31, 69,  9, 10, 97,\n",
              "        76, 51]),\n",
              " array([21, 32, 66, 58, 89,  0, 61, 41, 47, 55, 14, 93, 26, 39, 84, 54, 57,\n",
              "        29, 59, 56, 44, 45, 30,  5, 25, 85, 38, 52, 18, 90]))"
            ]
          },
          "metadata": {
            "tags": []
          },
          "execution_count": 20
        }
      ]
    }
  ]
}